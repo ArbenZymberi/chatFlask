{
 "cells": [
  {
   "cell_type": "code",
   "execution_count": null,
   "metadata": {},
   "outputs": [],
   "source": [
    "#This is just to show them Python"
   ]
  }
 ],
 "metadata": {
  "kernelspec": {
   "display_name": "Python 3",
   "language": "python",
   "name": "python3"
  },
  "language_info": {
   "name": "python",
   "version": "3.10.4"
  },
  "orig_nbformat": 4,
  "vscode": {
   "interpreter": {
    "hash": "4a109169a2de8fd80c2e1719fe200989d37aafe85a7bf25ee37e8f43c834d9c9"
   }
  }
 },
 "nbformat": 4,
 "nbformat_minor": 2
}
